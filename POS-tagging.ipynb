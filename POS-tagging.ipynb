{
 "cells": [
  {
   "cell_type": "code",
   "execution_count": 54,
   "outputs": [],
   "source": [
    "from natasha import (\n",
    "    Segmenter,\n",
    "    MorphVocab,\n",
    "    NewsEmbedding,\n",
    "    NewsMorphTagger,\n",
    "    Doc\n",
    ")"
   ],
   "metadata": {
    "collapsed": false,
    "pycharm": {
     "name": "#%%\n"
    }
   }
  },
  {
   "cell_type": "code",
   "execution_count": 53,
   "outputs": [],
   "source": [
    "def read_text(path: str):\n",
    "    text = None\n",
    "    with open(path) as f:\n",
    "        text = f.read()\n",
    "    return text"
   ],
   "metadata": {
    "collapsed": false,
    "pycharm": {
     "name": "#%%\n"
    }
   }
  },
  {
   "cell_type": "code",
   "execution_count": 55,
   "outputs": [],
   "source": [
    "segmenter = Segmenter()\n",
    "# morph_vocab = MorphVocab()\n",
    "emb = NewsEmbedding()\n",
    "morph_tagger = NewsMorphTagger(emb)\n",
    "text = read_text('text.txt')\n",
    "doc = Doc(text)\n",
    "doc.segment(segmenter)\n",
    "doc.tag_morph(morph_tagger)"
   ],
   "metadata": {
    "collapsed": false,
    "pycharm": {
     "name": "#%%\n"
    }
   }
  },
  {
   "cell_type": "code",
   "execution_count": 69,
   "outputs": [],
   "source": [
    "def naive_search(arr: list, seq: list):\n",
    "    \"\"\"\n",
    "    Поиск подмассива seq в массиве arr\n",
    "    \"\"\"\n",
    "    positions = []\n",
    "    n, m = len(arr), len(seq)\n",
    "    for i in range(n - m + 1):\n",
    "        if arr[i : i+m] == seq:\n",
    "            positions.append(i)\n",
    "    return positions\n",
    "\n",
    "def pos_search(doc_tokens: list, query: list):\n",
    "    \"\"\"\n",
    "    Поиск последовательности тэгов частей речи query в размеченном тексте (doc_tokens)\n",
    "    \"\"\"\n",
    "    res = []\n",
    "    m = len(query)\n",
    "    pos_list = [token.pos for token in doc_tokens]\n",
    "    positions = naive_search(pos_list, query)\n",
    "    for i in positions:\n",
    "        words = [x.text for x in doc_tokens[i:i+m]]\n",
    "        res.append(words)\n",
    "    #return res\n",
    "    for x in res:\n",
    "        print(' '.join(map(str, x)))\n"
   ],
   "metadata": {
    "collapsed": false,
    "pycharm": {
     "name": "#%%\n"
    }
   }
  },
  {
   "cell_type": "markdown",
   "source": [
    "Проверим на примере из задания, как все работает"
   ],
   "metadata": {
    "collapsed": false
   }
  },
  {
   "cell_type": "code",
   "execution_count": 76,
   "outputs": [
    {
     "name": "stdout",
     "output_type": "stream",
     "text": [
      "английской девочки ,\n",
      "2020 года .\n",
      "оценён критиками ,\n",
      "визуальную составляющую .\n"
     ]
    }
   ],
   "source": [
    "query = ['ADJ', 'NOUN', 'PUNCT']\n",
    "pos_search(doc.tokens, query)"
   ],
   "metadata": {
    "collapsed": false,
    "pycharm": {
     "name": "#%%\n"
    }
   }
  },
  {
   "cell_type": "code",
   "execution_count": 60,
   "outputs": [],
   "source": [],
   "metadata": {
    "collapsed": false,
    "pycharm": {
     "name": "#%%\n"
    }
   }
  },
  {
   "cell_type": "code",
   "execution_count": 60,
   "outputs": [],
   "source": [],
   "metadata": {
    "collapsed": false,
    "pycharm": {
     "name": "#%%\n"
    }
   }
  }
 ],
 "metadata": {
  "kernelspec": {
   "display_name": "Python 3",
   "language": "python",
   "name": "python3"
  },
  "language_info": {
   "codemirror_mode": {
    "name": "ipython",
    "version": 2
   },
   "file_extension": ".py",
   "mimetype": "text/x-python",
   "name": "python",
   "nbconvert_exporter": "python",
   "pygments_lexer": "ipython2",
   "version": "2.7.6"
  }
 },
 "nbformat": 4,
 "nbformat_minor": 0
}